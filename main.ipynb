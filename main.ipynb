{
 "cells": [
  {
   "cell_type": "markdown",
   "id": "467d3aca",
   "metadata": {},
   "source": [
    "# Gerenciamento de Dependências"
   ]
  },
  {
   "cell_type": "code",
   "execution_count": 1,
   "id": "50d0bdf6-3b0b-48a5-ac05-e1c3fdcae695",
   "metadata": {
    "vscode": {
     "languageId": "plaintext"
    }
   },
   "outputs": [],
   "source": [
    "# Import dos Pacotes"
   ]
  },
  {
   "cell_type": "markdown",
   "id": "09317649-ac67-4285-823d-2a64df26f9db",
   "metadata": {},
   "source": [
    "# Tratamento dos Dados"
   ]
  },
  {
   "cell_type": "code",
   "execution_count": null,
   "id": "e5613843-ab61-4425-b871-f26ead76f22e",
   "metadata": {},
   "outputs": [],
   "source": [
    "# Downdload do dataset"
   ]
  }
 ],
 "metadata": {
  "kernelspec": {
   "display_name": "Machine Learning Project",
   "language": "python",
   "name": "ml_env"
  },
  "language_info": {
   "codemirror_mode": {
    "name": "ipython",
    "version": 3
   },
   "file_extension": ".py",
   "mimetype": "text/x-python",
   "name": "python",
   "nbconvert_exporter": "python",
   "pygments_lexer": "ipython3",
   "version": "3.13.5"
  }
 },
 "nbformat": 4,
 "nbformat_minor": 5
}
