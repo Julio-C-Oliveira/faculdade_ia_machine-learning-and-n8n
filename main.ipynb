{
 "cells": [
  {
   "cell_type": "markdown",
   "id": "467d3aca",
   "metadata": {},
   "source": [
    "# Gerenciamento de Dependências"
   ]
  },
  {
   "cell_type": "code",
   "execution_count": 20,
   "id": "b0d1848d-d641-4665-bc80-c00d3eb748d6",
   "metadata": {},
   "outputs": [
    {
     "name": "stdout",
     "output_type": "stream",
     "text": [
      "Requirement already satisfied: pip in ./ml_ENV/lib/python3.13/site-packages (25.2)\n",
      "Requirement already satisfied: gdown in ./ml_ENV/lib/python3.13/site-packages (5.2.0)\n",
      "Requirement already satisfied: beautifulsoup4 in ./ml_ENV/lib/python3.13/site-packages (from gdown) (4.13.4)\n",
      "Requirement already satisfied: filelock in ./ml_ENV/lib/python3.13/site-packages (from gdown) (3.19.1)\n",
      "Requirement already satisfied: requests[socks] in ./ml_ENV/lib/python3.13/site-packages (from gdown) (2.32.4)\n",
      "Requirement already satisfied: tqdm in ./ml_ENV/lib/python3.13/site-packages (from gdown) (4.67.1)\n",
      "Requirement already satisfied: soupsieve>1.2 in ./ml_ENV/lib/python3.13/site-packages (from beautifulsoup4->gdown) (2.7)\n",
      "Requirement already satisfied: typing-extensions>=4.0.0 in ./ml_ENV/lib/python3.13/site-packages (from beautifulsoup4->gdown) (4.14.1)\n",
      "Requirement already satisfied: charset_normalizer<4,>=2 in ./ml_ENV/lib/python3.13/site-packages (from requests[socks]->gdown) (3.4.3)\n",
      "Requirement already satisfied: idna<4,>=2.5 in ./ml_ENV/lib/python3.13/site-packages (from requests[socks]->gdown) (3.10)\n",
      "Requirement already satisfied: urllib3<3,>=1.21.1 in ./ml_ENV/lib/python3.13/site-packages (from requests[socks]->gdown) (2.5.0)\n",
      "Requirement already satisfied: certifi>=2017.4.17 in ./ml_ENV/lib/python3.13/site-packages (from requests[socks]->gdown) (2025.8.3)\n",
      "Requirement already satisfied: PySocks!=1.5.7,>=1.5.6 in ./ml_ENV/lib/python3.13/site-packages (from requests[socks]->gdown) (1.7.1)\n",
      "Requirement already satisfied: numpy in ./ml_ENV/lib/python3.13/site-packages (2.3.2)\n",
      "Requirement already satisfied: pandas in ./ml_ENV/lib/python3.13/site-packages (2.3.1)\n",
      "Requirement already satisfied: numpy>=1.26.0 in ./ml_ENV/lib/python3.13/site-packages (from pandas) (2.3.2)\n",
      "Requirement already satisfied: python-dateutil>=2.8.2 in ./ml_ENV/lib/python3.13/site-packages (from pandas) (2.9.0.post0)\n",
      "Requirement already satisfied: pytz>=2020.1 in ./ml_ENV/lib/python3.13/site-packages (from pandas) (2025.2)\n",
      "Requirement already satisfied: tzdata>=2022.7 in ./ml_ENV/lib/python3.13/site-packages (from pandas) (2025.2)\n",
      "Requirement already satisfied: six>=1.5 in ./ml_ENV/lib/python3.13/site-packages (from python-dateutil>=2.8.2->pandas) (1.17.0)\n",
      "Requirement already satisfied: seaborn in ./ml_ENV/lib/python3.13/site-packages (0.13.2)\n",
      "Requirement already satisfied: numpy!=1.24.0,>=1.20 in ./ml_ENV/lib/python3.13/site-packages (from seaborn) (2.3.2)\n",
      "Requirement already satisfied: pandas>=1.2 in ./ml_ENV/lib/python3.13/site-packages (from seaborn) (2.3.1)\n",
      "Requirement already satisfied: matplotlib!=3.6.1,>=3.4 in ./ml_ENV/lib/python3.13/site-packages (from seaborn) (3.10.5)\n",
      "Requirement already satisfied: contourpy>=1.0.1 in ./ml_ENV/lib/python3.13/site-packages (from matplotlib!=3.6.1,>=3.4->seaborn) (1.3.3)\n",
      "Requirement already satisfied: cycler>=0.10 in ./ml_ENV/lib/python3.13/site-packages (from matplotlib!=3.6.1,>=3.4->seaborn) (0.12.1)\n",
      "Requirement already satisfied: fonttools>=4.22.0 in ./ml_ENV/lib/python3.13/site-packages (from matplotlib!=3.6.1,>=3.4->seaborn) (4.59.1)\n",
      "Requirement already satisfied: kiwisolver>=1.3.1 in ./ml_ENV/lib/python3.13/site-packages (from matplotlib!=3.6.1,>=3.4->seaborn) (1.4.9)\n",
      "Requirement already satisfied: packaging>=20.0 in ./ml_ENV/lib/python3.13/site-packages (from matplotlib!=3.6.1,>=3.4->seaborn) (25.0)\n",
      "Requirement already satisfied: pillow>=8 in ./ml_ENV/lib/python3.13/site-packages (from matplotlib!=3.6.1,>=3.4->seaborn) (11.3.0)\n",
      "Requirement already satisfied: pyparsing>=2.3.1 in ./ml_ENV/lib/python3.13/site-packages (from matplotlib!=3.6.1,>=3.4->seaborn) (3.2.3)\n",
      "Requirement already satisfied: python-dateutil>=2.7 in ./ml_ENV/lib/python3.13/site-packages (from matplotlib!=3.6.1,>=3.4->seaborn) (2.9.0.post0)\n",
      "Requirement already satisfied: pytz>=2020.1 in ./ml_ENV/lib/python3.13/site-packages (from pandas>=1.2->seaborn) (2025.2)\n",
      "Requirement already satisfied: tzdata>=2022.7 in ./ml_ENV/lib/python3.13/site-packages (from pandas>=1.2->seaborn) (2025.2)\n",
      "Requirement already satisfied: six>=1.5 in ./ml_ENV/lib/python3.13/site-packages (from python-dateutil>=2.7->matplotlib!=3.6.1,>=3.4->seaborn) (1.17.0)\n",
      "Collecting missingno\n",
      "  Downloading missingno-0.5.2-py3-none-any.whl.metadata (639 bytes)\n",
      "Requirement already satisfied: numpy in ./ml_ENV/lib/python3.13/site-packages (from missingno) (2.3.2)\n",
      "Requirement already satisfied: matplotlib in ./ml_ENV/lib/python3.13/site-packages (from missingno) (3.10.5)\n",
      "Requirement already satisfied: scipy in ./ml_ENV/lib/python3.13/site-packages (from missingno) (1.16.1)\n",
      "Requirement already satisfied: seaborn in ./ml_ENV/lib/python3.13/site-packages (from missingno) (0.13.2)\n",
      "Requirement already satisfied: contourpy>=1.0.1 in ./ml_ENV/lib/python3.13/site-packages (from matplotlib->missingno) (1.3.3)\n",
      "Requirement already satisfied: cycler>=0.10 in ./ml_ENV/lib/python3.13/site-packages (from matplotlib->missingno) (0.12.1)\n",
      "Requirement already satisfied: fonttools>=4.22.0 in ./ml_ENV/lib/python3.13/site-packages (from matplotlib->missingno) (4.59.1)\n",
      "Requirement already satisfied: kiwisolver>=1.3.1 in ./ml_ENV/lib/python3.13/site-packages (from matplotlib->missingno) (1.4.9)\n",
      "Requirement already satisfied: packaging>=20.0 in ./ml_ENV/lib/python3.13/site-packages (from matplotlib->missingno) (25.0)\n",
      "Requirement already satisfied: pillow>=8 in ./ml_ENV/lib/python3.13/site-packages (from matplotlib->missingno) (11.3.0)\n",
      "Requirement already satisfied: pyparsing>=2.3.1 in ./ml_ENV/lib/python3.13/site-packages (from matplotlib->missingno) (3.2.3)\n",
      "Requirement already satisfied: python-dateutil>=2.7 in ./ml_ENV/lib/python3.13/site-packages (from matplotlib->missingno) (2.9.0.post0)\n",
      "Requirement already satisfied: six>=1.5 in ./ml_ENV/lib/python3.13/site-packages (from python-dateutil>=2.7->matplotlib->missingno) (1.17.0)\n",
      "Requirement already satisfied: pandas>=1.2 in ./ml_ENV/lib/python3.13/site-packages (from seaborn->missingno) (2.3.1)\n",
      "Requirement already satisfied: pytz>=2020.1 in ./ml_ENV/lib/python3.13/site-packages (from pandas>=1.2->seaborn->missingno) (2025.2)\n",
      "Requirement already satisfied: tzdata>=2022.7 in ./ml_ENV/lib/python3.13/site-packages (from pandas>=1.2->seaborn->missingno) (2025.2)\n",
      "Downloading missingno-0.5.2-py3-none-any.whl (8.7 kB)\n",
      "Installing collected packages: missingno\n",
      "Successfully installed missingno-0.5.2\n",
      "Requirement already satisfied: matplotlib in ./ml_ENV/lib/python3.13/site-packages (3.10.5)\n",
      "Requirement already satisfied: contourpy>=1.0.1 in ./ml_ENV/lib/python3.13/site-packages (from matplotlib) (1.3.3)\n",
      "Requirement already satisfied: cycler>=0.10 in ./ml_ENV/lib/python3.13/site-packages (from matplotlib) (0.12.1)\n",
      "Requirement already satisfied: fonttools>=4.22.0 in ./ml_ENV/lib/python3.13/site-packages (from matplotlib) (4.59.1)\n",
      "Requirement already satisfied: kiwisolver>=1.3.1 in ./ml_ENV/lib/python3.13/site-packages (from matplotlib) (1.4.9)\n",
      "Requirement already satisfied: numpy>=1.23 in ./ml_ENV/lib/python3.13/site-packages (from matplotlib) (2.3.2)\n",
      "Requirement already satisfied: packaging>=20.0 in ./ml_ENV/lib/python3.13/site-packages (from matplotlib) (25.0)\n",
      "Requirement already satisfied: pillow>=8 in ./ml_ENV/lib/python3.13/site-packages (from matplotlib) (11.3.0)\n",
      "Requirement already satisfied: pyparsing>=2.3.1 in ./ml_ENV/lib/python3.13/site-packages (from matplotlib) (3.2.3)\n",
      "Requirement already satisfied: python-dateutil>=2.7 in ./ml_ENV/lib/python3.13/site-packages (from matplotlib) (2.9.0.post0)\n",
      "Requirement already satisfied: six>=1.5 in ./ml_ENV/lib/python3.13/site-packages (from python-dateutil>=2.7->matplotlib) (1.17.0)\n",
      "Requirement already satisfied: scikit-learn in ./ml_ENV/lib/python3.13/site-packages (1.7.1)\n",
      "Requirement already satisfied: numpy>=1.22.0 in ./ml_ENV/lib/python3.13/site-packages (from scikit-learn) (2.3.2)\n",
      "Requirement already satisfied: scipy>=1.8.0 in ./ml_ENV/lib/python3.13/site-packages (from scikit-learn) (1.16.1)\n",
      "Requirement already satisfied: joblib>=1.2.0 in ./ml_ENV/lib/python3.13/site-packages (from scikit-learn) (1.5.1)\n",
      "Requirement already satisfied: threadpoolctl>=3.1.0 in ./ml_ENV/lib/python3.13/site-packages (from scikit-learn) (3.6.0)\n"
     ]
    }
   ],
   "source": [
    "# Upgrade do pip\n",
    "!pip install --upgrade pip\n",
    "\n",
    "# Instalação dos pacotes\n",
    "!pip install gdown # Serve pra baixar arquivos do google drive\n",
    "!pip install numpy\n",
    "!pip install pandas\n",
    "!pip install seaborn\n",
    "!pip install missingno\n",
    "!pip install matplotlib\n",
    "!pip install scikit-learn"
   ]
  },
  {
   "cell_type": "code",
   "execution_count": 21,
   "id": "50d0bdf6-3b0b-48a5-ac05-e1c3fdcae695",
   "metadata": {
    "vscode": {
     "languageId": "plaintext"
    }
   },
   "outputs": [],
   "source": [
    "# Import dos Pacotes\n",
    "import numpy as np\n",
    "import pandas as pd\n",
    "import seaborn as sns\n",
    "import missingno as msno\n",
    "import matplotlib.pyplot as plt\n",
    "from sklearn.preprocessing import OneHotEncoder, LabelEncoder\n",
    "from sklearn.model_selection import train_test_split\n",
    "from sklearn.linear_model import LogisticRegression\n",
    "from sklearn.tree import DecisionTreeClassifier\n",
    "from sklearn.metrics import confusion_matrix, ConfusionMatrixDisplay, accuracy_score, f1_score"
   ]
  },
  {
   "cell_type": "markdown",
   "id": "03308604-71c6-4261-b228-d631ce5dc7ce",
   "metadata": {},
   "source": [
    "# Download do Dataset"
   ]
  },
  {
   "cell_type": "code",
   "execution_count": 15,
   "id": "ab2ee74b-eadc-498a-a342-a9229e68f120",
   "metadata": {},
   "outputs": [
    {
     "name": "stdout",
     "output_type": "stream",
     "text": [
      "Downloading...\n",
      "From: https://drive.google.com/uc?id=1ISRC99c1SyDwpsWh5E8OjSMtxpd6ux22\n",
      "To: /home/julio/Documentos/faculdade_ia_machine-learning-and-n8n/sods.csv\n",
      "100%|████████████████████████████████████████| 849k/849k [00:00<00:00, 1.82MB/s]\n"
     ]
    }
   ],
   "source": [
    "!gdown 1ISRC99c1SyDwpsWh5E8OjSMtxpd6ux22"
   ]
  },
  {
   "cell_type": "markdown",
   "id": "626dd7cc-ae19-4b95-b755-c497353dea6b",
   "metadata": {},
   "source": [
    "# Visualização dos Dados"
   ]
  },
  {
   "cell_type": "markdown",
   "id": "ca2c7a9e-8099-4b49-b017-88185b7e36bd",
   "metadata": {},
   "source": [
    "## Funções Auxiliares"
   ]
  },
  {
   "cell_type": "code",
   "execution_count": null,
   "id": "e149eff0-2ba0-46d9-ab81-0a3a34990059",
   "metadata": {},
   "outputs": [],
   "source": [
    "def show_distribution():\n",
    "    ..."
   ]
  },
  {
   "cell_type": "markdown",
   "id": "4df62821-7244-4ed2-afd1-29f31e30bd71",
   "metadata": {},
   "source": [
    "## Plots"
   ]
  },
  {
   "cell_type": "code",
   "execution_count": 31,
   "id": "d5adf2e9-823b-4a1c-90ad-9c53bf835dbe",
   "metadata": {},
   "outputs": [
    {
     "data": {
      "text/html": [
       "<div>\n",
       "<style scoped>\n",
       "    .dataframe tbody tr th:only-of-type {\n",
       "        vertical-align: middle;\n",
       "    }\n",
       "\n",
       "    .dataframe tbody tr th {\n",
       "        vertical-align: top;\n",
       "    }\n",
       "\n",
       "    .dataframe thead th {\n",
       "        text-align: right;\n",
       "    }\n",
       "</style>\n",
       "<table border=\"1\" class=\"dataframe\">\n",
       "  <thead>\n",
       "    <tr style=\"text-align: right;\">\n",
       "      <th></th>\n",
       "      <th>idade</th>\n",
       "      <th>genero</th>\n",
       "      <th>etnia</th>\n",
       "      <th>pcd</th>\n",
       "      <th>vive_no_brasil</th>\n",
       "      <th>estado_moradia</th>\n",
       "      <th>nivel_ensino</th>\n",
       "      <th>formacao</th>\n",
       "      <th>tempo_experiencia_dados</th>\n",
       "      <th>linguagens_preferidas</th>\n",
       "      <th>bancos_de_dados</th>\n",
       "      <th>cloud_preferida</th>\n",
       "      <th>cargo</th>\n",
       "    </tr>\n",
       "  </thead>\n",
       "  <tbody>\n",
       "    <tr>\n",
       "      <th>0</th>\n",
       "      <td>39.0</td>\n",
       "      <td>Masculino</td>\n",
       "      <td>Parda</td>\n",
       "      <td>Não</td>\n",
       "      <td>True</td>\n",
       "      <td>Distrito Federal (DF)</td>\n",
       "      <td>Pós-graduação</td>\n",
       "      <td>Computação / Engenharia de Software / Sistemas...</td>\n",
       "      <td>de 1 a 2 anos</td>\n",
       "      <td>R</td>\n",
       "      <td>PostgreSQL, Oracle, MySQL, SQL SERVER</td>\n",
       "      <td>Amazon Web Services (AWS)</td>\n",
       "      <td>DBA/Administrador de Banco de Dados</td>\n",
       "    </tr>\n",
       "    <tr>\n",
       "      <th>1</th>\n",
       "      <td>32.0</td>\n",
       "      <td>Masculino</td>\n",
       "      <td>Parda</td>\n",
       "      <td>Não</td>\n",
       "      <td>True</td>\n",
       "      <td>Pará (PA)</td>\n",
       "      <td>Graduação/Bacharelado</td>\n",
       "      <td>Outras Engenharias</td>\n",
       "      <td>de 3 a 4 anos</td>\n",
       "      <td>NaN</td>\n",
       "      <td>NaN</td>\n",
       "      <td>NaN</td>\n",
       "      <td>NaN</td>\n",
       "    </tr>\n",
       "    <tr>\n",
       "      <th>2</th>\n",
       "      <td>53.0</td>\n",
       "      <td>Masculino</td>\n",
       "      <td>Branca</td>\n",
       "      <td>Não</td>\n",
       "      <td>True</td>\n",
       "      <td>Distrito Federal (DF)</td>\n",
       "      <td>Pós-graduação</td>\n",
       "      <td>Computação / Engenharia de Software / Sistemas...</td>\n",
       "      <td>de 3 a 4 anos</td>\n",
       "      <td>Python</td>\n",
       "      <td>PostgreSQL, MySQL, Oracle, DB2</td>\n",
       "      <td>Amazon Web Services (AWS)</td>\n",
       "      <td>Desenvolvedor/ Engenheiro de Software/ Analist...</td>\n",
       "    </tr>\n",
       "    <tr>\n",
       "      <th>3</th>\n",
       "      <td>27.0</td>\n",
       "      <td>Masculino</td>\n",
       "      <td>Branca</td>\n",
       "      <td>Não</td>\n",
       "      <td>True</td>\n",
       "      <td>Minas Gerais (MG)</td>\n",
       "      <td>Doutorado ou Phd</td>\n",
       "      <td>Estatística/ Matemática / Matemática Computaci...</td>\n",
       "      <td>de 4 a 6 anos</td>\n",
       "      <td>Python</td>\n",
       "      <td>Google BigQuery</td>\n",
       "      <td>Não sei opinar</td>\n",
       "      <td>Cientista de Dados/Data Scientist</td>\n",
       "    </tr>\n",
       "    <tr>\n",
       "      <th>4</th>\n",
       "      <td>46.0</td>\n",
       "      <td>Feminino</td>\n",
       "      <td>Branca</td>\n",
       "      <td>Não</td>\n",
       "      <td>True</td>\n",
       "      <td>Pará (PA)</td>\n",
       "      <td>Pós-graduação</td>\n",
       "      <td>Computação / Engenharia de Software / Sistemas...</td>\n",
       "      <td>Não tenho experiência na área de dados</td>\n",
       "      <td>Python</td>\n",
       "      <td>Microsoft Access</td>\n",
       "      <td>Amazon Web Services (AWS)</td>\n",
       "      <td>Desenvolvedor/ Engenheiro de Software/ Analist...</td>\n",
       "    </tr>\n",
       "    <tr>\n",
       "      <th>...</th>\n",
       "      <td>...</td>\n",
       "      <td>...</td>\n",
       "      <td>...</td>\n",
       "      <td>...</td>\n",
       "      <td>...</td>\n",
       "      <td>...</td>\n",
       "      <td>...</td>\n",
       "      <td>...</td>\n",
       "      <td>...</td>\n",
       "      <td>...</td>\n",
       "      <td>...</td>\n",
       "      <td>...</td>\n",
       "      <td>...</td>\n",
       "    </tr>\n",
       "    <tr>\n",
       "      <th>4266</th>\n",
       "      <td>26.0</td>\n",
       "      <td>Masculino</td>\n",
       "      <td>Branca</td>\n",
       "      <td>Não</td>\n",
       "      <td>True</td>\n",
       "      <td>São Paulo (SP)</td>\n",
       "      <td>Graduação/Bacharelado</td>\n",
       "      <td>Computação / Engenharia de Software / Sistemas...</td>\n",
       "      <td>de 3 a 4 anos</td>\n",
       "      <td>Python</td>\n",
       "      <td>PostgreSQL, Oracle, MariaDB, HBase, MySQL</td>\n",
       "      <td>Não sei opinar</td>\n",
       "      <td>Analista de Dados/Data Analyst</td>\n",
       "    </tr>\n",
       "    <tr>\n",
       "      <th>4267</th>\n",
       "      <td>30.0</td>\n",
       "      <td>Feminino</td>\n",
       "      <td>Branca</td>\n",
       "      <td>Não</td>\n",
       "      <td>True</td>\n",
       "      <td>Minas Gerais (MG)</td>\n",
       "      <td>Mestrado</td>\n",
       "      <td>Outras Engenharias</td>\n",
       "      <td>de 1 a 2 anos</td>\n",
       "      <td>Python</td>\n",
       "      <td>SQL SERVER, SAP HANA</td>\n",
       "      <td>Azure (Microsoft)</td>\n",
       "      <td>Engenheiro de Dados/Arquiteto de Dados/Data En...</td>\n",
       "    </tr>\n",
       "    <tr>\n",
       "      <th>4268</th>\n",
       "      <td>29.0</td>\n",
       "      <td>Masculino</td>\n",
       "      <td>Branca</td>\n",
       "      <td>Não</td>\n",
       "      <td>True</td>\n",
       "      <td>São Paulo (SP)</td>\n",
       "      <td>Mestrado</td>\n",
       "      <td>Outras Engenharias</td>\n",
       "      <td>de 4 a 6 anos</td>\n",
       "      <td>NaN</td>\n",
       "      <td>NaN</td>\n",
       "      <td>NaN</td>\n",
       "      <td>NaN</td>\n",
       "    </tr>\n",
       "    <tr>\n",
       "      <th>4269</th>\n",
       "      <td>NaN</td>\n",
       "      <td>Masculino</td>\n",
       "      <td>Branca</td>\n",
       "      <td>Não</td>\n",
       "      <td>True</td>\n",
       "      <td>São Paulo (SP)</td>\n",
       "      <td>Não tenho graduação formal</td>\n",
       "      <td>NaN</td>\n",
       "      <td>Menos de 1 ano</td>\n",
       "      <td>Python</td>\n",
       "      <td>Microsoft Access, Oracle</td>\n",
       "      <td>Azure (Microsoft)</td>\n",
       "      <td>Outra Opção</td>\n",
       "    </tr>\n",
       "    <tr>\n",
       "      <th>4270</th>\n",
       "      <td>24.0</td>\n",
       "      <td>Masculino</td>\n",
       "      <td>Branca</td>\n",
       "      <td>Não</td>\n",
       "      <td>True</td>\n",
       "      <td>Goiás (GO)</td>\n",
       "      <td>Graduação/Bacharelado</td>\n",
       "      <td>Computação / Engenharia de Software / Sistemas...</td>\n",
       "      <td>de 1 a 2 anos</td>\n",
       "      <td>Python</td>\n",
       "      <td>Oracle, Firebird, SQL SERVER</td>\n",
       "      <td>Amazon Web Services (AWS)</td>\n",
       "      <td>Analista de Dados/Data Analyst</td>\n",
       "    </tr>\n",
       "  </tbody>\n",
       "</table>\n",
       "<p>4271 rows × 13 columns</p>\n",
       "</div>"
      ],
      "text/plain": [
       "      idade     genero   etnia  pcd  vive_no_brasil         estado_moradia  \\\n",
       "0      39.0  Masculino   Parda  Não            True  Distrito Federal (DF)   \n",
       "1      32.0  Masculino   Parda  Não            True              Pará (PA)   \n",
       "2      53.0  Masculino  Branca  Não            True  Distrito Federal (DF)   \n",
       "3      27.0  Masculino  Branca  Não            True      Minas Gerais (MG)   \n",
       "4      46.0   Feminino  Branca  Não            True              Pará (PA)   \n",
       "...     ...        ...     ...  ...             ...                    ...   \n",
       "4266   26.0  Masculino  Branca  Não            True         São Paulo (SP)   \n",
       "4267   30.0   Feminino  Branca  Não            True      Minas Gerais (MG)   \n",
       "4268   29.0  Masculino  Branca  Não            True         São Paulo (SP)   \n",
       "4269    NaN  Masculino  Branca  Não            True         São Paulo (SP)   \n",
       "4270   24.0  Masculino  Branca  Não            True             Goiás (GO)   \n",
       "\n",
       "                    nivel_ensino  \\\n",
       "0                  Pós-graduação   \n",
       "1          Graduação/Bacharelado   \n",
       "2                  Pós-graduação   \n",
       "3               Doutorado ou Phd   \n",
       "4                  Pós-graduação   \n",
       "...                          ...   \n",
       "4266       Graduação/Bacharelado   \n",
       "4267                    Mestrado   \n",
       "4268                    Mestrado   \n",
       "4269  Não tenho graduação formal   \n",
       "4270       Graduação/Bacharelado   \n",
       "\n",
       "                                               formacao  \\\n",
       "0     Computação / Engenharia de Software / Sistemas...   \n",
       "1                                    Outras Engenharias   \n",
       "2     Computação / Engenharia de Software / Sistemas...   \n",
       "3     Estatística/ Matemática / Matemática Computaci...   \n",
       "4     Computação / Engenharia de Software / Sistemas...   \n",
       "...                                                 ...   \n",
       "4266  Computação / Engenharia de Software / Sistemas...   \n",
       "4267                                 Outras Engenharias   \n",
       "4268                                 Outras Engenharias   \n",
       "4269                                                NaN   \n",
       "4270  Computação / Engenharia de Software / Sistemas...   \n",
       "\n",
       "                     tempo_experiencia_dados linguagens_preferidas  \\\n",
       "0                              de 1 a 2 anos                     R   \n",
       "1                              de 3 a 4 anos                   NaN   \n",
       "2                              de 3 a 4 anos                Python   \n",
       "3                              de 4 a 6 anos                Python   \n",
       "4     Não tenho experiência na área de dados                Python   \n",
       "...                                      ...                   ...   \n",
       "4266                           de 3 a 4 anos                Python   \n",
       "4267                           de 1 a 2 anos                Python   \n",
       "4268                           de 4 a 6 anos                   NaN   \n",
       "4269                          Menos de 1 ano                Python   \n",
       "4270                           de 1 a 2 anos                Python   \n",
       "\n",
       "                                bancos_de_dados            cloud_preferida  \\\n",
       "0         PostgreSQL, Oracle, MySQL, SQL SERVER  Amazon Web Services (AWS)   \n",
       "1                                           NaN                        NaN   \n",
       "2                PostgreSQL, MySQL, Oracle, DB2  Amazon Web Services (AWS)   \n",
       "3                               Google BigQuery             Não sei opinar   \n",
       "4                              Microsoft Access  Amazon Web Services (AWS)   \n",
       "...                                         ...                        ...   \n",
       "4266  PostgreSQL, Oracle, MariaDB, HBase, MySQL             Não sei opinar   \n",
       "4267                       SQL SERVER, SAP HANA          Azure (Microsoft)   \n",
       "4268                                        NaN                        NaN   \n",
       "4269                   Microsoft Access, Oracle          Azure (Microsoft)   \n",
       "4270               Oracle, Firebird, SQL SERVER  Amazon Web Services (AWS)   \n",
       "\n",
       "                                                  cargo  \n",
       "0                   DBA/Administrador de Banco de Dados  \n",
       "1                                                   NaN  \n",
       "2     Desenvolvedor/ Engenheiro de Software/ Analist...  \n",
       "3                     Cientista de Dados/Data Scientist  \n",
       "4     Desenvolvedor/ Engenheiro de Software/ Analist...  \n",
       "...                                                 ...  \n",
       "4266                     Analista de Dados/Data Analyst  \n",
       "4267  Engenheiro de Dados/Arquiteto de Dados/Data En...  \n",
       "4268                                                NaN  \n",
       "4269                                        Outra Opção  \n",
       "4270                     Analista de Dados/Data Analyst  \n",
       "\n",
       "[4271 rows x 13 columns]"
      ]
     },
     "execution_count": 31,
     "metadata": {},
     "output_type": "execute_result"
    }
   ],
   "source": [
    "# Carregar o dataset e ver algumas informações básicas\n",
    "dataset = pd.read_csv(\"sods.csv\") \n",
    "dataset"
   ]
  },
  {
   "cell_type": "code",
   "execution_count": 32,
   "id": "b43072b7-6bc0-470b-81da-06d57ed5181a",
   "metadata": {},
   "outputs": [
    {
     "data": {
      "text/plain": [
       "(array([146., 723., 871., 979., 514., 453., 235., 114., 107.,  55.]),\n",
       " array([18. , 21.6, 25.2, 28.8, 32.4, 36. , 39.6, 43.2, 46.8, 50.4, 54. ]),\n",
       " <BarContainer object of 10 artists>)"
      ]
     },
     "execution_count": 32,
     "metadata": {},
     "output_type": "execute_result"
    },
    {
     "data": {
      "image/png": "[encoded data removed]",
      "text/plain": [
       "<Figure size 640x480 with 1 Axes>"
      ]
     },
     "metadata": {},
     "output_type": "display_data"
    }
   ],
   "source": [
    "plt.hist(dataset[\"idade\"])"
   ]
  },
  {
   "cell_type": "code",
   "execution_count": 35,
   "id": "4f5716fd-8dae-4510-94f5-67127aae2ad4",
   "metadata": {},
   "outputs": [
    {
     "data": {
      "text/plain": [
       "<Axes: xlabel='idade', ylabel='Density'>"
      ]
     },
     "execution_count": 35,
     "metadata": {},
     "output_type": "execute_result"
    },
    {
     "data": {
      "image/png": "[encoded data removed]",
      "text/plain": [
       "<Figure size 640x480 with 1 Axes>"
      ]
     },
     "metadata": {},
     "output_type": "display_data"
    }
   ],
   "source": [
    "sns.kdeplot(dataset[\"idade\"], fill=True)"
   ]
  },
  {
   "cell_type": "markdown",
   "id": "09317649-ac67-4285-823d-2a64df26f9db",
   "metadata": {},
   "source": [
    "# Tratamento dos Dados"
   ]
  },
  {
   "cell_type": "code",
   "execution_count": null,
   "id": "e5613843-ab61-4425-b871-f26ead76f22e",
   "metadata": {},
   "outputs": [],
   "source": [
    "# Downdload do dataset"
   ]
  }
 ],
 "metadata": {
  "kernelspec": {
   "display_name": "Machine Learning Project",
   "language": "python",
   "name": "ml_env"
  },
  "language_info": {
   "codemirror_mode": {
    "name": "ipython",
    "version": 3
   },
   "file_extension": ".py",
   "mimetype": "text/x-python",
   "name": "python",
   "nbconvert_exporter": "python",
   "pygments_lexer": "ipython3",
   "version": "3.13.5"
  }
 },
 "nbformat": 4,
 "nbformat_minor": 5
}
